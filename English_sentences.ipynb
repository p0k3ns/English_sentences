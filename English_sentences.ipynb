{
 "cells": [
  {
   "cell_type": "markdown",
   "id": "variable-giant",
   "metadata": {},
   "source": [
    "# Final project\n",
    "## Basics of approximation\n",
    "### A recursive network model that learns to build sentences in English\n",
    "The aim of the project is to build and fine-tune a model learning to build correct sentences in English. The collection of books about Harry Potter by J.K. Rowling was used as the teaching text. The neural network will build sentences based on its estimated probability of a given character on the basis of the characters preceding it in the sequence."
   ]
  },
  {
   "cell_type": "code",
   "execution_count": 1,
   "id": "final-disabled",
   "metadata": {},
   "outputs": [
    {
     "name": "stderr",
     "output_type": "stream",
     "text": [
      "┌ Warning: This version of CUDA.jl only supports NVIDIA drivers for CUDA 10.1 or higher (yours is for CUDA 7.5.0)\n",
      "└ @ CUDA C:\\Users\\Mateusz\\.julia\\packages\\CUDA\\wTQsK\\src\\initialization.jl:100\n"
     ]
    }
   ],
   "source": [
    "using Flux\n",
    "using Flux: onehot, argmax, chunk, batchseq, throttle, crossentropy\n",
    "using StatsBase: wsample\n",
    "using Base.Iterators: partition\n",
    "using BSON"
   ]
  },
  {
   "cell_type": "code",
   "execution_count": 2,
   "id": "collaborative-amplifier",
   "metadata": {},
   "outputs": [],
   "source": [
    "text = collect(read(\"Harry_Potter.txt\",String));\n",
    "alphabet = [unique(text)..., '_'];"
   ]
  },
  {
   "cell_type": "markdown",
   "id": "whole-synthesis",
   "metadata": {},
   "source": [
    "### Exploratory analysis\n",
    "The text on the basis of which the model will learn consists of 7 books from the Harry Potter saga, i.e. nearly 211 thousand. lines of text. The text consists of upper and lower case letters of the English alphabet and special characters. An interesting fact is that there are no numbers in the text, this may be due to the poor recognition of the text in the scanner, which was probably used to digitize the text. You may notice the letter \"D\" represented as \"|)\" on one of the first pages. Based on self  memory, there were dates in the text, but due to the volume of the text, it is impossible to fill them in manually."
   ]
  },
  {
   "cell_type": "code",
   "execution_count": 3,
   "id": "periodic-courage",
   "metadata": {},
   "outputs": [
    {
     "name": "stdout",
     "output_type": "stream",
     "text": [
      "['\\ufeff', 'T', 'H', 'E', ' ', 'B', 'O', 'Y', 'W', 'L', 'I', 'V', 'D', '\\r', '\\n', 'M', 'r', '.', 'a', 'n', 'd', 's', 'u', 'l', 'e', 'y', ',', 'o', 'f', 'm', 'b', 'P', 'i', 'v', 't', 'w', 'p', 'h', 'c', 'k', '’', 'x', 'g', 'j', 'G', ';', '-', 'N', 'A', '“', '”', '—', 'F', 'z', '?', '!', 'q', 'C', 'S', 'R', 'K', '(', ')', ':', 'J', 'U', '\"', '‘', 'Z', 'Q', '_']\n"
     ]
    }
   ],
   "source": [
    "println(alphabet)"
   ]
  },
  {
   "cell_type": "markdown",
   "id": "nasty-activity",
   "metadata": {},
   "source": [
    "Onehot coding was used to improve the learning properties of the network"
   ]
  },
  {
   "cell_type": "code",
   "execution_count": 4,
   "id": "important-holocaust",
   "metadata": {},
   "outputs": [],
   "source": [
    "text = map(ch -> onehot(ch, alphabet), text);\n",
    "stop = onehot('_', alphabet);"
   ]
  },
  {
   "cell_type": "markdown",
   "id": "eligible-arthur",
   "metadata": {},
   "source": [
    "### Architecture and parameters\n",
    "Sequence length is assumed to be 100 characters because, based on the articles found, the average English sentence is 14.4 words and the average word is 6.47 letters, making an average of 93.17 characters per sentence with no spaces. The project investigated the ability to train the network for various batch_size values which define how many portions of the sequence the network will receive at the entrance to the model.\n",
    "\n",
    "The model uses the LSTM function, which, due to its architecture, is able to properly filter information\n",
    "and use them when the source is far away from the current neuron. The network learning ability for batch_size of 32, 64 and 128 was tested on the basis of the value of the loss function. The expected result is that the lattice will learn better (lower loss function value) for lower input batches.\n",
    "\n",
    "The network consists of 2 hidden LSMT layers and a probability return layer between which the Dropout function was included for regularization."
   ]
  },
  {
   "cell_type": "code",
   "execution_count": 5,
   "id": "combined-concentrate",
   "metadata": {},
   "outputs": [],
   "source": [
    "N = length(alphabet);\n",
    "seqlen = 100;\n",
    "batch_size = 32;"
   ]
  },
  {
   "cell_type": "code",
   "execution_count": 6,
   "id": "educational-bonus",
   "metadata": {},
   "outputs": [],
   "source": [
    "Xs = collect(partition(batchseq(chunk(text, batch_size), stop), seqlen));\n",
    "Ys = collect(partition(batchseq(chunk(text[2:end], batch_size), stop), seqlen));"
   ]
  },
  {
   "cell_type": "code",
   "execution_count": 7,
   "id": "bigger-indonesian",
   "metadata": {},
   "outputs": [
    {
     "data": {
      "text/plain": [
       "#4 (generic function with 1 method)"
      ]
     },
     "execution_count": 7,
     "metadata": {},
     "output_type": "execute_result"
    }
   ],
   "source": [
    "m = Chain(\n",
    "    LSTM(N, 128),\n",
    "    Dropout(0.3), \n",
    "    LSTM(128, 128),\n",
    "    Dropout(0.3),\n",
    "    Dense(128, N),\n",
    "    softmax)\n",
    "\n",
    "function loss(xs, ys)\n",
    "  l = sum(crossentropy.(m.(xs), ys))\n",
    "  return l\n",
    "end\n",
    "\n",
    "opt = ADAM(0.001)\n",
    "\n",
    "\n",
    "function sample(m, alphabet, len; temp = 1)\n",
    "  Flux.reset!(m)\n",
    "  buf = IOBuffer()\n",
    "  c = rand(alphabet)\n",
    "  for i = 1:len\n",
    "    write(buf, c)\n",
    "    c = wsample(alphabet, m(onehot(c, alphabet)))\n",
    "  end\n",
    "  return String(take!(buf))\n",
    "end\n",
    "evalcb = function ()\n",
    "    @show loss(Xs[5], Ys[5])\n",
    "    println(sample(m, alphabet, 100))\n",
    "end"
   ]
  },
  {
   "cell_type": "code",
   "execution_count": 9,
   "id": "reserved-appointment",
   "metadata": {},
   "outputs": [
    {
     "name": "stderr",
     "output_type": "stream",
     "text": [
      "┌ Info: Beginning training loop...\n",
      "└ @ Main In[9]:1\n",
      "┌ Info: Epoch: 1\n",
      "└ @ Main In[9]:6\n"
     ]
    },
    {
     "name": "stdout",
     "output_type": "stream",
     "text": [
      "loss(Xs[5], Ys[5]) = 422.07043f0\n",
      "wdng!zuEowggATOkP’S\n",
      ")JHw”WOt\"(sd)uIYDT—al;kw”OpwzTZR“NFg‘p—t’UFYmnFiVV:l?)?:uIOlw﻿M‘,vJ\"ktw\"﻿vV QOxs\n"
     ]
    },
    {
     "name": "stderr",
     "output_type": "stream",
     "text": [
      "┌ Info: New best result: 321.77805\n",
      "└ @ Main In[9]:11\n",
      "┌ Info: Epoch: 2\n",
      "└ @ Main In[9]:6\n"
     ]
    },
    {
     "name": "stdout",
     "output_type": "stream",
     "text": [
      "loss(Xs[5], Ys[5]) = 321.6836f0\n",
      "x.—Kimdv ifayn oron n’litiu y-e“ etsu\n",
      "Uorvwaf.osw\n",
      "aos\n",
      "ul \n",
      "ku  ouapi\r",
      "fra  Ww,m edo frV tg,tom drHpecm\n"
     ]
    },
    {
     "name": "stderr",
     "output_type": "stream",
     "text": [
      "┌ Info: New best result: 320.03\n",
      "└ @ Main In[9]:11\n",
      "┌ Info: Epoch: 3\n",
      "└ @ Main In[9]:6\n"
     ]
    },
    {
     "name": "stdout",
     "output_type": "stream",
     "text": [
      "loss(Xs[5], Ys[5]) = 319.11584f0\n",
      "B\"mcor goiadam\n",
      "e o\n",
      "\n",
      "hratnmnuhur\r\n",
      "orenr\n",
      "ih as\r",
      "ut nD \r",
      "u t w?ac\n",
      "car\n",
      "jaehl\r",
      "\r",
      " sn yaotoyoc”e  o\n",
      ",nalth\n",
      "e”d\n"
     ]
    },
    {
     "name": "stderr",
     "output_type": "stream",
     "text": [
      "┌ Info: New best result: 289.3968\n",
      "└ @ Main In[9]:11\n",
      "┌ Info: Epoch: 4\n",
      "└ @ Main In[9]:6\n"
     ]
    },
    {
     "name": "stdout",
     "output_type": "stream",
     "text": [
      "loss(Xs[5], Ys[5]) = 289.0309f0\n",
      "HU.b‘ g  ode rdn “ekat \r",
      "p lnrom rn\r",
      "ejqmo”mraoi”yeey w plihdm Iot\n",
      "utt oot\n",
      "f\n",
      "t l c ba\r\n",
      "whmocwou.he.age\n"
     ]
    },
    {
     "name": "stderr",
     "output_type": "stream",
     "text": [
      "┌ Info: New best result: 274.95068\n",
      "└ @ Main In[9]:11\n",
      "┌ Info: Epoch: 5\n",
      "└ @ Main In[9]:6\n"
     ]
    },
    {
     "name": "stdout",
     "output_type": "stream",
     "text": [
      "loss(Xs[5], Ys[5]) = 274.74323f0\n",
      "L—a —gpedt drd hrth i f dli\n",
      " \n",
      "hhen faaht melionr d. trabpWapf eo\n",
      "Ula p, \n",
      "\n",
      " ni\n",
      "to\n",
      "\n",
      "yu\n",
      "\n",
      "m\n",
      "?on T\n"
     ]
    },
    {
     "name": "stderr",
     "output_type": "stream",
     "text": [
      "┌ Info: New best result: 267.01474\n",
      "└ @ Main In[9]:11\n",
      "┌ Info: Epoch: 6\n",
      "└ @ Main In[9]:6\n"
     ]
    },
    {
     "name": "stdout",
     "output_type": "stream",
     "text": [
      "loss(Xs[5], Ys[5]) = 266.82718f0\n",
      "iDetqat s Kn d,. ry  amihc oce iuvlrwfn?d” meeugn Ad twis. g duvehint dr weonme totte hy at..greed e\n"
     ]
    },
    {
     "name": "stderr",
     "output_type": "stream",
     "text": [
      "┌ Info: New best result: 260.9972\n",
      "└ @ Main In[9]:11\n",
      "┌ Info: Epoch: 7\n",
      "└ @ Main In[9]:6\n"
     ]
    },
    {
     "name": "stdout",
     "output_type": "stream",
     "text": [
      "loss(Xs[5], Ys[5]) = 260.6558f0\n",
      "kJvritritionclimu st. un thar inlrecwe, tla ehas, haag\r",
      "I uogd “a ree’m onll triand’wi\r",
      "a g row pipoin\n"
     ]
    },
    {
     "name": "stderr",
     "output_type": "stream",
     "text": [
      "┌ Info: New best result: 257.77185\n",
      "└ @ Main In[9]:11\n",
      "┌ Info: Epoch: 8\n",
      "└ @ Main In[9]:6\n"
     ]
    },
    {
     "name": "stdout",
     "output_type": "stream",
     "text": [
      "loss(Xs[5], Ys[5]) = 257.54782f0\n",
      "vYMs!itue han d ry siuript \n",
      "ehileRevosd thbi\n",
      "“\n",
      "“recr” sr Viit  n nd Him tns rapn nand \n",
      "Y!ab angse\n"
     ]
    },
    {
     "name": "stderr",
     "output_type": "stream",
     "text": [
      "┌ Info: New best result: 255.05707\n",
      "└ @ Main In[9]:11\n",
      "┌ Info: Epoch: 9\n",
      "└ @ Main In[9]:6\n"
     ]
    },
    {
     "name": "stdout",
     "output_type": "stream",
     "text": [
      "loss(Xs[5], Ys[5]) = 254.91763f0\n",
      "L;L\r",
      "zhYronzr m, Heaaf reetisr?” ripitie id Dalasligme \n",
      "\n",
      "I” nd hehos.  biofs toavanmo!vwicnct hry re!\n"
     ]
    },
    {
     "name": "stderr",
     "output_type": "stream",
     "text": [
      "┌ Info: New best result: 252.10231\n",
      "└ @ Main In[9]:11\n"
     ]
    },
    {
     "name": "stdout",
     "output_type": "stream",
     "text": [
      "loss(Xs[5], Ys[5]) = 251.78633f0\n",
      "yg;nh, gngafatteslcovald titt ang n . phhia row tibd y. awe shyeshehy. Yaas gs se  nis in sit ichih’"
     ]
    },
    {
     "name": "stderr",
     "output_type": "stream",
     "text": [
      "┌ Info: Epoch: 10\n",
      "└ @ Main In[9]:6\n"
     ]
    },
    {
     "name": "stdout",
     "output_type": "stream",
     "text": [
      "\n"
     ]
    },
    {
     "name": "stderr",
     "output_type": "stream",
     "text": [
      "┌ Info: New best result: 248.94778\n",
      "└ @ Main In[9]:11\n"
     ]
    }
   ],
   "source": [
    "@info(\"Beginning training loop...\")\n",
    "best_ls = Inf\n",
    "last_improvement = 0\n",
    "bs32 = []\n",
    "for epoch = 1:10\n",
    "    @info \"Epoch: $epoch\"\n",
    "    global best_ls, last_improvement\n",
    "    Flux.train!(loss, params(m), zip(Xs, Ys), opt, cb=throttle(evalcb, 240))\n",
    "    ls = loss(Xs[5], Ys[5])\n",
    "    if ls <= best_ls\n",
    "        @info \"New best result: $ls\"\n",
    "        BSON.@save \"char_model.bson\" m\n",
    "        best_ls = ls\n",
    "        last_improvement = epoch\n",
    "    end\n",
    "    append!(bs32,ls)\n",
    "end"
   ]
  },
  {
   "cell_type": "code",
   "execution_count": 10,
   "id": "mathematical-commonwealth",
   "metadata": {},
   "outputs": [],
   "source": [
    "N = length(alphabet);\n",
    "seqlen = 100;\n",
    "batch_size = 64;\n",
    "Xs = collect(partition(batchseq(chunk(text, batch_size), stop), seqlen));\n",
    "Ys = collect(partition(batchseq(chunk(text[2:end], batch_size), stop), seqlen));"
   ]
  },
  {
   "cell_type": "code",
   "execution_count": 11,
   "id": "optional-delaware",
   "metadata": {},
   "outputs": [
    {
     "data": {
      "text/plain": [
       "#9 (generic function with 1 method)"
      ]
     },
     "execution_count": 11,
     "metadata": {},
     "output_type": "execute_result"
    }
   ],
   "source": [
    "m = Chain(\n",
    "    LSTM(N, 256),\n",
    "    Dropout(0.3), \n",
    "    LSTM(256, 256),\n",
    "    Dropout(0.3),\n",
    "    Dense(256, N),\n",
    "    softmax)"
   ]
  },
  {
   "cell_type": "code",
   "execution_count": 12,
   "id": "equivalent-arkansas",
   "metadata": {
    "scrolled": true
   },
   "outputs": [
    {
     "name": "stderr",
     "output_type": "stream",
     "text": [
      "┌ Info: Beginning training loop...\n",
      "└ @ Main In[12]:1\n",
      "┌ Info: Epoch: 1\n",
      "└ @ Main In[12]:6\n"
     ]
    },
    {
     "name": "stdout",
     "output_type": "stream",
     "text": [
      "loss(Xs[5], Ys[5]) = 411.23767f0\n",
      "r﻿B—UyaApqfoId!C_?rvb\"V“jKEE﻿\n",
      ")_IL“K﻿aZ\"(SO)ODF-jo_xFa’C‘n—\n",
      "Qa—EpQptwti;r’:GtJOns.﻿LjYB’Q”— dnU_Z)zO\n"
     ]
    },
    {
     "name": "stderr",
     "output_type": "stream",
     "text": [
      "┌ Info: New best result: 320.70786\n",
      "└ @ Main In[12]:11\n",
      "┌ Info: Epoch: 2\n",
      "└ @ Main In[12]:6\n"
     ]
    },
    {
     "name": "stdout",
     "output_type": "stream",
     "text": [
      "loss(Xs[5], Ys[5]) = 320.67307f0\n",
      ". l.t;r’oa ucl a\n",
      " lgtemeuaerido ftrmsrmirHstitirgT stot\n",
      "aas”\n",
      "nu dwe rer\n"
     ]
    },
    {
     "name": "stderr",
     "output_type": "stream",
     "text": [
      "┌ Info: New best result: 319.2849\n",
      "└ @ Main In[12]:11\n",
      "┌ Info: Epoch: 3\n",
      "└ @ Main In[12]:6\n"
     ]
    },
    {
     "name": "stdout",
     "output_type": "stream",
     "text": [
      "loss(Xs[5], Ys[5]) = 319.25943f0\n",
      ".uBcW\n",
      "\n",
      "ltu  ooah  s\r\n",
      "eht r  .  eIiso.oi\r",
      "rolohutntcaaraioss\n",
      "rw\r",
      "st\n",
      " sma,ntdttloa\r",
      " hrao  ep;F tlo ng \r",
      "o\n"
     ]
    },
    {
     "name": "stderr",
     "output_type": "stream",
     "text": [
      "┌ Info: New best result: 315.2238\n",
      "└ @ Main In[12]:11\n",
      "┌ Info: Epoch: 4\n",
      "└ @ Main In[12]:6\n"
     ]
    },
    {
     "name": "stdout",
     "output_type": "stream",
     "text": [
      "loss(Xs[5], Ys[5]) = 314.4044f0\n",
      "Wlmztmenretoe’\r",
      "ai“ u.  e ci\n",
      "rmycgsth nrtldkt fdeoaokosy.hw olthodh r Iae ftihero, yp ytCu‘ y\r",
      " deetv \n"
     ]
    },
    {
     "name": "stderr",
     "output_type": "stream",
     "text": [
      "┌ Info: New best result: 296.87393\n",
      "└ @ Main In[12]:11\n",
      "┌ Info: Epoch: 5\n",
      "└ @ Main In[12]:6\n"
     ]
    },
    {
     "name": "stdout",
     "output_type": "stream",
     "text": [
      "loss(Xs[5], Ys[5]) = 296.01035f0\n",
      ":JCyBp. ti\r\n",
      "l\n",
      "cs\r",
      "eB\r",
      "rsoadeH \r\n",
      "ra o nothlhaooBh\r",
      " ns\r",
      "shkoooue seear lrwua htd ter.y o. —o  suslvib vol\n"
     ]
    },
    {
     "name": "stderr",
     "output_type": "stream",
     "text": [
      "┌ Info: New best result: 284.33936\n",
      "└ @ Main In[12]:11\n",
      "┌ Info: Epoch: 6\n",
      "└ @ Main In[12]:6\n"
     ]
    },
    {
     "name": "stdout",
     "output_type": "stream",
     "text": [
      "loss(Xs[5], Ys[5]) = 283.6893f0\n",
      "”“ee  ened  ” at omeesiy na?iriusraeSrug og souad wt r?, r he uibhca\r",
      "anriqheotne as y \r",
      "ot cfVoapd  s\n"
     ]
    },
    {
     "name": "stderr",
     "output_type": "stream",
     "text": [
      "┌ Info: New best result: 270.1659\n",
      "└ @ Main In[12]:11\n",
      "┌ Info: Epoch: 7\n",
      "└ @ Main In[12]:6\n"
     ]
    },
    {
     "name": "stdout",
     "output_type": "stream",
     "text": [
      "loss(Xs[5], Ys[5]) = 269.0389f0\n",
      "—’sLy”tfofr.zally, t adr cknrerld ldewag,iuuelwn dd’ypr Hrctt de ud ed Sarotrette s bve gy d el’ynd \n"
     ]
    },
    {
     "name": "stderr",
     "output_type": "stream",
     "text": [
      "┌ Info: New best result: 263.5062\n",
      "└ @ Main In[12]:11\n",
      "┌ Info: Epoch: 8\n",
      "└ @ Main In[12]:6\n"
     ]
    },
    {
     "name": "stdout",
     "output_type": "stream",
     "text": [
      "loss(Xs[5], Ys[5]) = 263.40918f0\n",
      "hhJyoica\r\n",
      "w’sed d’ jhoats t tnd rrr uwreulavt ig she He\r",
      "ncogo.lay Hharlyuhanloue ehmat gnhy le \r\n",
      "ng \n"
     ]
    },
    {
     "name": "stderr",
     "output_type": "stream",
     "text": [
      "┌ Info: New best result: 260.25836\n",
      "└ @ Main In[12]:11\n",
      "┌ Info: Epoch: 9\n",
      "└ @ Main In[12]:6\n"
     ]
    },
    {
     "name": "stdout",
     "output_type": "stream",
     "text": [
      "loss(Xs[5], Ys[5]) = 260.05893f0\n",
      "yokUhkaot’ \r\n",
      "he cid tutooe thaf d car relkt arecpofdo oceoih os cauorheat an a itnsocheolns woiait n\n"
     ]
    },
    {
     "name": "stderr",
     "output_type": "stream",
     "text": [
      "┌ Info: New best result: 258.0029\n",
      "└ @ Main In[12]:11\n",
      "┌ Info: Epoch: 10\n",
      "└ @ Main In[12]:6\n"
     ]
    },
    {
     "name": "stdout",
     "output_type": "stream",
     "text": [
      "loss(Xs[5], Ys[5]) = 257.88885f0\n",
      "JEvqpflumbiy itt, \n",
      "\n",
      " wle sir ahe \n",
      "HyT ust,’ sapuy sre tly b \n",
      "I\n",
      "bh\n",
      "Hh\n",
      "s, srd \n",
      "foHoleso\n",
      "\n",
      "\n",
      "n \n",
      "loss(Xs[5], Ys[5]) = 256.7641f0\n",
      "(meWweiagtsseslereosasd B sceHad troya\n",
      " sintofl o reomeicat d bitrigm efr o . wiseu\n",
      "hlirk meofgror\n"
     ]
    },
    {
     "name": "stderr",
     "output_type": "stream",
     "text": [
      "┌ Info: New best result: 255.86424\n",
      "└ @ Main In[12]:11\n"
     ]
    }
   ],
   "source": [
    "@info(\"Beginning training loop...\")\n",
    "best_ls = Inf\n",
    "last_improvement = 0\n",
    "bs64 = []\n",
    "for epoch = 1:10\n",
    "    @info \"Epoch: $epoch\"\n",
    "    global best_ls, last_improvement\n",
    "    Flux.train!(loss, params(m), zip(Xs, Ys), opt, cb=throttle(evalcb, 240))\n",
    "    ls = loss(Xs[5], Ys[5])\n",
    "    if ls <= best_ls\n",
    "        @info \"New best result: $ls\"\n",
    "        BSON.@save \"char_model.bson\" m\n",
    "        best_ls = ls\n",
    "        last_improvement = epoch\n",
    "    end\n",
    "    append!(bs64,ls)\n",
    "end"
   ]
  },
  {
   "cell_type": "code",
   "execution_count": 23,
   "id": "durable-insertion",
   "metadata": {},
   "outputs": [],
   "source": [
    "N = length(alphabet);\n",
    "seqlen = 100;\n",
    "batch_size = 128;\n",
    "Xs = collect(partition(batchseq(chunk(text, batch_size), stop), seqlen));\n",
    "Ys = collect(partition(batchseq(chunk(text[2:end], batch_size), stop), seqlen));"
   ]
  },
  {
   "cell_type": "code",
   "execution_count": 24,
   "id": "forced-medicine",
   "metadata": {},
   "outputs": [
    {
     "data": {
      "text/plain": [
       "#14 (generic function with 1 method)"
      ]
     },
     "execution_count": 24,
     "metadata": {},
     "output_type": "execute_result"
    }
   ],
   "source": [
    "m = Chain(\n",
    "    LSTM(N, 512),\n",
    "    Dropout(0.3), \n",
    "    LSTM(512, 512),\n",
    "    Dropout(0.3),\n",
    "    Dense(512, N),\n",
    "    softmax)"
   ]
  },
  {
   "cell_type": "code",
   "execution_count": 25,
   "id": "adjacent-inside",
   "metadata": {
    "scrolled": true
   },
   "outputs": [
    {
     "name": "stderr",
     "output_type": "stream",
     "text": [
      "┌ Info: Beginning training loop...\n",
      "└ @ Main In[25]:1\n",
      "┌ Info: Epoch: 1\n",
      "└ @ Main In[25]:6\n"
     ]
    },
    {
     "name": "stdout",
     "output_type": "stream",
     "text": [
      "loss(Xs[5], Ys[5]) = 398.93127f0\n",
      "sSNBO\n",
      "ce\n",
      "KAcydPaVL?\"?:gBzvJ,’NDih RaqIjPg \n",
      "dgjohd xR\"x,DvY“Mf’Vfed:WU?F—toG\"jq()-toVg_i\n",
      "loss(Xs[5], Ys[5]) = 320.28763f0\n",
      "lyw?ro—oagi t    ’rorxdoodadoesnireish.nso r s g yb oe\n",
      "hecr iec— adnryrha \n"
     ]
    },
    {
     "name": "stderr",
     "output_type": "stream",
     "text": [
      "┌ Info: New best result: 320.21646\n",
      "└ @ Main In[25]:11\n",
      "┌ Info: Epoch: 2\n",
      "└ @ Main In[25]:6\n"
     ]
    },
    {
     "name": "stdout",
     "output_type": "stream",
     "text": [
      "loss(Xs[5], Ys[5]) = 320.27628f0\n",
      "E(!Pynfhdi) ewI\n",
      "i    \n",
      "nrn”aisGsfoasane nDgeKr,td dleophyim” ee HH stMedgh trhnuuoa\n",
      "oolvkshnrawsr\n",
      "loss(Xs[5], Ys[5]) = 319.4048f0\n",
      "GRz”\n",
      "h fsellPte   d\n",
      "wmrreae sr p\n",
      "r \n",
      "eqGt.nseott u sp.g  i \n",
      "hsumDd wwoanfon\n",
      "trefes.e\n"
     ]
    },
    {
     "name": "stderr",
     "output_type": "stream",
     "text": [
      "┌ Info: New best result: 319.54654\n",
      "└ @ Main In[25]:11\n",
      "┌ Info: Epoch: 3\n",
      "└ @ Main In[25]:6\n"
     ]
    },
    {
     "name": "stdout",
     "output_type": "stream",
     "text": [
      "loss(Xs[5], Ys[5]) = 319.40466f0\n",
      "v-Whmvhloatt’omoe b.c\n",
      "tergh wdd  oe\n",
      "  hHqe ;ve\n",
      "e hter.yt\n",
      "ks tdmvyniof \n",
      "Hhu\n",
      "loss(Xs[5], Ys[5]) = 318.5011f0\n",
      "jIcn’s”RcHew nr.\n",
      "rOr  igalb bwmara)\n",
      "m i ntn elge  tatuitwdet   d  ar  iio.oyhroklryb w\n"
     ]
    },
    {
     "name": "stderr",
     "output_type": "stream",
     "text": [
      "┌ Info: New best result: 318.542\n",
      "└ @ Main In[25]:11\n",
      "┌ Info: Epoch: 4\n",
      "└ @ Main In[25]:6\n"
     ]
    },
    {
     "name": "stdout",
     "output_type": "stream",
     "text": [
      "loss(Xs[5], Ys[5]) = 318.53098f0\n",
      "ov, lpcsus cayon raesyenr  \n",
      "sabe\n",
      "dasgl wooHPhroa\"ltaksha!rsnar \n",
      "H rdlyg dlnelchofe\n",
      "loss(Xs[5], Ys[5]) = 316.27087f0\n",
      "cJN\n",
      "isv\n",
      "nibnaeohcee araaed.wh seymffes nyhn eotoeyr sc bd”oa\n"
     ]
    },
    {
     "name": "stderr",
     "output_type": "stream",
     "text": [
      "┌ Info: New best result: 315.23526\n",
      "└ @ Main In[25]:11\n",
      "┌ Info: Epoch: 5\n",
      "└ @ Main In[25]:6\n"
     ]
    },
    {
     "name": "stdout",
     "output_type": "stream",
     "text": [
      "loss(Xs[5], Ys[5]) = 314.8634f0\n",
      "I’\n",
      "did andigsqldn\n",
      "o Cer’l aoh ictenrk eear w Pia   reghiloae\n",
      " swhea\n",
      "loss(Xs[5], Ys[5]) = 308.5589f0\n",
      "rtam tt.t\n",
      "HitaanosNiensfwnkleu\n",
      " sslklbdu\n",
      "ywatr ealhvke?’rtorgeynn rsy—raywfne t’aow\n",
      "y ks\n"
     ]
    },
    {
     "name": "stderr",
     "output_type": "stream",
     "text": [
      "┌ Info: New best result: 308.84573\n",
      "└ @ Main In[25]:11\n",
      "┌ Info: Epoch: 6\n",
      "└ @ Main In[25]:6\n"
     ]
    },
    {
     "name": "stdout",
     "output_type": "stream",
     "text": [
      "loss(Xs[5], Ys[5]) = 309.14264f0\n",
      "Y\n",
      "\n",
      "t b\n",
      "mtyh. s Z dawoiartT\n",
      "e be,e sek ursiMso Oy fl﻿ois \n",
      "tls )”,l nraok Ahgc  rl\n",
      "loss(Xs[5], Ys[5]) = 299.9339f0\n",
      "IRE(E absed.ehe t a pnrGooeKw arahihylaHhoi bointtmiii\n",
      "e hPabiweAh ggit,.aafseou vshwl \n"
     ]
    },
    {
     "name": "stderr",
     "output_type": "stream",
     "text": [
      "┌ Info: New best result: 302.9027\n",
      "└ @ Main In[25]:11\n",
      "┌ Info: Epoch: 7\n",
      "└ @ Main In[25]:6\n"
     ]
    },
    {
     "name": "stdout",
     "output_type": "stream",
     "text": [
      "loss(Xs[5], Ys[5]) = 307.96176f0\n",
      " aha s , .woat chariee .s     nlnoe o w a n wr cftain \n",
      "tochee”yu  th n un  B  t in \n",
      "loss(Xs[5], Ys[5]) = 290.04468f0\n",
      "OQ’ne\n",
      "nin,mcSs’tasse el yn— w a gton d ye\n",
      "ea \n",
      "tr w \n"
     ]
    },
    {
     "name": "stderr",
     "output_type": "stream",
     "text": [
      "┌ Info: New best result: 293.20596\n",
      "└ @ Main In[25]:11\n",
      "┌ Info: Epoch: 8\n",
      "└ @ Main In[25]:6\n"
     ]
    },
    {
     "name": "stdout",
     "output_type": "stream",
     "text": [
      "loss(Xs[5], Ys[5]) = 289.34213f0\n",
      ")!VU\n",
      "h  wg .\n",
      " ehaotSofhifyghtnl id woktrd,p\n",
      "leiifd Md \n",
      "loss(Xs[5], Ys[5]) = 283.75586f0\n",
      "WaCer egsn d od.nbNHli  n\n",
      "napediwe’d t tnCar\n",
      "c\n",
      "naotf\n",
      "na \n",
      " hHegrtg tovn wol\n",
      "y s \n"
     ]
    },
    {
     "name": "stderr",
     "output_type": "stream",
     "text": [
      "┌ Info: New best result: 292.48535\n",
      "└ @ Main In[25]:11\n"
     ]
    },
    {
     "name": "stdout",
     "output_type": "stream",
     "text": [
      "loss(Xs[5], Ys[5]) = 285.50076f0\n"
     ]
    },
    {
     "name": "stderr",
     "output_type": "stream",
     "text": [
      "┌ Info: Epoch: 9\n",
      "└ @ Main In[25]:6\n"
     ]
    },
    {
     "name": "stdout",
     "output_type": "stream",
     "text": [
      "ECwH\n",
      "\n",
      "c\n",
      "nTovm e iharit atsor cf, t e Pg “o t’hr’ lsh d eig\n",
      "loss(Xs[5], Ys[5]) = 277.3621f0\n",
      "cinnsrs ew, rih. poH I. e Dals peeuigdbssorh ondr\n",
      "nt wi—,s” ulerTteid  \n"
     ]
    },
    {
     "name": "stderr",
     "output_type": "stream",
     "text": [
      "┌ Info: New best result: 275.6532\n",
      "└ @ Main In[25]:11\n",
      "┌ Info: Epoch: 10\n",
      "└ @ Main In[25]:6\n"
     ]
    },
    {
     "name": "stdout",
     "output_type": "stream",
     "text": [
      "loss(Xs[5], Ys[5]) = 276.12375f0\n",
      "ud  t ulkAHkrbn hy” nitc htrRan ..” \n",
      "“tecanenS wty  fsis hanero\n",
      "nho biiY \n",
      "loss(Xs[5], Ys[5]) = 272.46347f0\n",
      "_Aabh\n",
      "hhohtot hemvt eop w ome und ,aahe r, v cutd.,.\n",
      "rg  llddr. auit n n cn tisdrsrvus\n"
     ]
    },
    {
     "name": "stderr",
     "output_type": "stream",
     "text": [
      "┌ Info: New best result: 268.07843\n",
      "└ @ Main In[25]:11\n"
     ]
    }
   ],
   "source": [
    "@info(\"Beginning training loop...\")\n",
    "best_ls = Inf\n",
    "last_improvement = 0\n",
    "bs128 = []\n",
    "for epoch = 1:10\n",
    "    @info \"Epoch: $epoch\"\n",
    "    global best_ls, last_improvement\n",
    "    Flux.train!(loss, params(m), zip(Xs, Ys), opt, cb=throttle(evalcb, 240))\n",
    "    ls = loss(Xs[5], Ys[5])\n",
    "    if ls <= best_ls\n",
    "        @info \"New best result: $ls\"\n",
    "        BSON.@save \"char_model.bson\" m\n",
    "        best_ls = ls\n",
    "        last_improvement = epoch\n",
    "    end\n",
    "    append!(bs128,ls)\n",
    "end"
   ]
  },
  {
   "cell_type": "code",
   "execution_count": 1,
   "id": "valuable-catering",
   "metadata": {},
   "outputs": [
    {
     "ename": "SyntaxError",
     "evalue": "invalid syntax (2537353997.py, line 1)",
     "output_type": "error",
     "traceback": [
      "\u001b[1;36m  Input \u001b[1;32mIn [1]\u001b[1;36m\u001b[0m\n\u001b[1;33m    using Plots\u001b[0m\n\u001b[1;37m          ^\u001b[0m\n\u001b[1;31mSyntaxError\u001b[0m\u001b[1;31m:\u001b[0m invalid syntax\n"
     ]
    }
   ],
   "source": [
    "using Plots\n",
    "plot(bs32,label = \"Batch_size 32\")\n",
    "plot!(bs64, label = \"Batch_size 64\")\n",
    "plot!(bs128, label = \"Batch_size 128\")"
   ]
  },
  {
   "cell_type": "markdown",
   "id": "southern-garage",
   "metadata": {},
   "source": [
    "### Summary\n",
    "As expected, the best result was achieved by the network with batch_size = 32, which is the smallest examined. The size of the set in relation to the computer's performance turned out to be a big problem when learning the network on this set. In the project, the network was set to 10 iterations to reduce computation time, and conclusions were drawn on this basis. In this number of iterations, the network has learned roughly the word length of the English language. In the first attempt, the network was set to 50 iterations, but the learning process lasted nearly 40 hours, after which the computer refused to cooperate further. The data resulting from the first attempt was lost, but the network already around 40 iterations correctly spelled the name of the main character in most cases, which is quite a surprise. This is probably due to the fact that \"Harry\" is the word most often found in the pages of the saga."
   ]
  },
  {
   "cell_type": "markdown",
   "id": "angry-height",
   "metadata": {},
   "source": [
    "### Bibilography\n",
    "* http://karpathy.github.io/2015/05/21/rnn-effectiveness/\n",
    "* https://fluxml.ai/Flux.jl/stable/\n",
    "* Length-frequency statistics for written English, G.A.MillerE.B.NewmanE.A.Friedman, Harvard University 1958\n",
    "* https://medium.com/@theacropolitan/sentence-length-has-declined-75-in-the-past-500-years-2e40f80f589f"
   ]
  }
 ],
 "metadata": {
  "kernelspec": {
   "display_name": "Python 3 (ipykernel)",
   "language": "python",
   "name": "python3"
  },
  "language_info": {
   "codemirror_mode": {
    "name": "ipython",
    "version": 3
   },
   "file_extension": ".py",
   "mimetype": "text/x-python",
   "name": "python",
   "nbconvert_exporter": "python",
   "pygments_lexer": "ipython3",
   "version": "3.9.12"
  }
 },
 "nbformat": 4,
 "nbformat_minor": 5
}
